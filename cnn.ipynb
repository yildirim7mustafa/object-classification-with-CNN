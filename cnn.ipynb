{
 "cells": [
  {
   "cell_type": "markdown",
   "id": "e5083f85",
   "metadata": {},
   "source": [
    "pip install --upgrade tensorflow\n",
    "pip install opencv-python-headless"
   ]
  },
  {
   "cell_type": "markdown",
   "id": "34791d57",
   "metadata": {},
   "source": [
    "# Resimlerin okunması, resim ve etiket dizilerinin oluşturulması aşaması"
   ]
  },
  {
   "cell_type": "code",
   "execution_count": 1,
   "id": "fd80f98b",
   "metadata": {},
   "outputs": [
    {
     "name": "stderr",
     "output_type": "stream",
     "text": [
      "2023-10-12 22:52:40.631372: I tensorflow/core/platform/cpu_feature_guard.cc:182] This TensorFlow binary is optimized to use available CPU instructions in performance-critical operations.\n",
      "To enable the following instructions: SSE4.1 SSE4.2 AVX AVX2 FMA, in other operations, rebuild TensorFlow with the appropriate compiler flags.\n"
     ]
    }
   ],
   "source": [
    "from tensorflow.keras.preprocessing.image import ImageDataGenerator\n",
    "from tensorflow.keras.preprocessing.image import img_to_array\n",
    "from tensorflow.keras.preprocessing.image import load_img\n",
    "import numpy as np\n",
    "import random\n",
    "import math\n",
    "import csv\n",
    "import cv2\n",
    "import os"
   ]
  },
  {
   "cell_type": "markdown",
   "id": "b3a46bc9",
   "metadata": {},
   "source": [
    "inputBasePath içerisinde her bir sınıf için o sınıf adıyla oluşturulmuş bir klasör vardır ve her klasör içerisinde o sınıfa ait resimler yer almaktadır. bu resimler her analiz adımında yeniden okunup işlenebilir ancak bu okuma sürecini yeniden yeniden yapmamak için resimler bir kereye mahsus okunup, istenirse yeniden boyutlandırılıp, istenirse filtre uygulanıp vs. daha sonra bir numpy array olarak kaydedilir. daha sonraki analiz işlemlerinden direkt bu array okunarak hızlıca işlem yapılabilir. oluştutulan array'ler outputBasePath yoluna kaydedilecek."
   ]
  },
  {
   "cell_type": "code",
   "execution_count": 2,
   "id": "87d60d21",
   "metadata": {},
   "outputs": [],
   "source": [
    "inputBasePath    = r\"/home/yildirim/Jupiter/images\"\n",
    "outputBasePath =  r\"/home/yildirim/Jupiter/imagearrays\" #bu klasörlerin daha önce oluşturulmuş olması gerek"
   ]
  },
  {
   "cell_type": "markdown",
   "id": "edf0068b",
   "metadata": {},
   "source": [
    "\n",
    "\n",
    "resimler yeniden boyutlandırılmak istenirse genişlik ve yükseklik değerleri burada tanımlanıyor. özellikle state-of-art modeller resimleri belli ölçülerde daha iyi işliyor. ideal değerleri öğrenip ona göre boyut verilebilir."
   ]
  },
  {
   "cell_type": "code",
   "execution_count": 3,
   "id": "15a0e1f8",
   "metadata": {},
   "outputs": [],
   "source": [
    "image_width = 224\n",
    "image_height = 224 "
   ]
  },
  {
   "cell_type": "markdown",
   "id": "763ce6bb",
   "metadata": {},
   "source": [
    "sınıf adlarını tutan bir dizi tanımlanıyor. bu sınıf adları aynı zamanda inputBasePath'te yer alan klasör isimleri\n"
   ]
  },
  {
   "cell_type": "code",
   "execution_count": 4,
   "id": "6b80045f",
   "metadata": {},
   "outputs": [],
   "source": [
    "classes = ['cat','dog']"
   ]
  },
  {
   "cell_type": "code",
   "execution_count": 5,
   "id": "9d9d23f6",
   "metadata": {},
   "outputs": [
    {
     "name": "stdout",
     "output_type": "stream",
     "text": [
      "=> cat\n",
      "=> dog\n",
      "X :  244\n",
      "Y :  244\n",
      "X :  (244, 224, 224, 3)\n",
      "Y :  (244,)\n",
      "X :  244\n",
      "Y :  244\n",
      "[ INFO - STAGE1 ]  NUMPY ARRAY CREATION COMPLETED \n",
      " \n"
     ]
    }
   ],
   "source": [
    "os.chdir(inputBasePath) #chdir -> change directory, inputBasePath yoluyla verilen dizine git\n",
    "\n",
    "X = [] # resimleri yani girdileri yani X değerlerini tutmak için dizi\n",
    "Y = [] # etiketleri yani Y değerlerini tutmak için dizi. her bir resmin etiketi içinde yer aldığı klasörün adı zaten\n",
    "\n",
    "i = 0\n",
    "for class1 in classes:\n",
    "  os.chdir(class1) #base yoldan sonra sıradaki sınıfı gösteren klasöre konumlan\n",
    "  print('=> '+class1) #o an üzerinde bulunulan sınıfı (klasör adını) yaz\n",
    "  for files in os.listdir('./'): # nokta mevcut dizini gösteriyor. ./ mevcut dizin altındakiler\n",
    "    img = cv2.imread(files) #dosya yolundan resmi binary array olarak okuma.resmi grayscale almak için ikinci parametreye 0 yazılır cv2.imread(files,0)\n",
    "    img = cv2.resize(img, (image_width,image_height)) #isteğe bağlı olarak resize edilebilir\n",
    "    X.append(img) #resmi oluşturan bit dizisini X'e ekle\n",
    "    Y.append(class1) # bu resmin sınıfı içinde bulunduğu klasör adı. resmin etiketi olarak bunu Y'ye ekle\n",
    "    i = i + 1\n",
    "  os.chdir('..') #bir üst dizine çık. bu sınıfla ve bunu içeren klasörler işimiz bitti\n",
    "  \n",
    "print(\"X : \",len(X))\n",
    "print(\"Y : \",len(Y))\n",
    "\n",
    "X = np.array(X).reshape(-1,image_width,image_height,3) #-1 ile verilen ilk değerin yerinde toplam resim adedi var; \n",
    "                #bu aynı kalacak. diğer parametreler verilen width ve height'e göre ve resmin renkli olduğunu \n",
    "                #belirten 3 ile yeniden şekillendirilecek\n",
    "Y = np.array(Y) #etiket adlarını içeren Y'yi reshape etmeye gerek yok. \n",
    "\n",
    "print(\"X : \",X.shape)\n",
    "print(\"Y : \",Y.shape)\n",
    "\n",
    "print(\"X : \",len(X))\n",
    "print(\"Y : \",len(Y))\n",
    "\n",
    "os.chdir('..') #bir üst dizine daha çıkıp sonra imagearrays klasörüne gidersek zaten outputBasePath'e ulaşmış olacağız\n",
    "os.chdir(\"imagearrays\")\n",
    "# üstteki iki satır yerine bunu direkt chdir(outputBasePath) olarak da yapabilirdik\n",
    "np.save(str(image_width)+'x'+str(image_height)+'_images', X) #diziyi kaydederken dosya adını en x boy_images olarak adlandır.\n",
    "                                                            #'224x224_images' gibi\n",
    "np.save(str(image_width)+'x'+str(image_height)+'_labels', Y) #diziyi kaydederken dosya adını en x boy_labels olarak adlandır.\n",
    "\n",
    "print(\"[ INFO - STAGE1 ]  NUMPY ARRAY CREATION COMPLETED \\n \")"
   ]
  },
  {
   "cell_type": "markdown",
   "id": "ecb30569",
   "metadata": {},
   "source": [
    "\n",
    "## Sınıflandırma işlemleri\n",
    "\n",
    "Bu aşamadan sonra daha önce oluşturulan array'ler okunarak işlem yapılacak\n"
   ]
  },
  {
   "cell_type": "code",
   "execution_count": 6,
   "id": "abcebecd",
   "metadata": {},
   "outputs": [],
   "source": [
    "from sklearn.metrics import classification_report\n",
    "from sklearn.model_selection import train_test_split\n",
    "from keras.utils.np_utils import to_categorical\n",
    "from sklearn.preprocessing import LabelEncoder\n",
    "from sklearn.metrics import confusion_matrix\n",
    "from sklearn.metrics import mean_squared_error\n",
    "import tensorflow as tf\n",
    "from tensorflow.keras.models import Sequential\n",
    "from tensorflow.keras.layers import BatchNormalization\n",
    "from tensorflow.keras.layers import Conv2D\n",
    "from tensorflow.keras.layers import MaxPooling2D\n",
    "from tensorflow.keras.layers import MaxPool2D # üstteki MaxPooling2D ile aynı şey. ister onu ister bunu kullan. \n",
    "#kodda ikisi de kullanıldığı için eklendi. yoksa biri ile yapılsaydı da olurdu.\n",
    "from tensorflow.keras.layers import Activation\n",
    "from tensorflow.keras.layers import Flatten\n",
    "from tensorflow.keras.layers import Dropout\n",
    "from tensorflow.keras.layers import Dense\n",
    "from tensorflow.keras.optimizers import Adam\n",
    "from tensorflow.keras.optimizers import SGD\n",
    "\n"
   ]
  },
  {
   "cell_type": "markdown",
   "id": "3da3785e",
   "metadata": {},
   "source": [
    "data önce numpy array olarak kaydedilen görüntüleri (data) ve sınıf (label) etiketlerini oku"
   ]
  },
  {
   "cell_type": "code",
   "execution_count": 7,
   "id": "d5fb581c",
   "metadata": {},
   "outputs": [
    {
     "data": {
      "text/plain": [
       "(244, 224, 224, 3)"
      ]
     },
     "execution_count": 7,
     "metadata": {},
     "output_type": "execute_result"
    }
   ],
   "source": [
    "data = np.load(r\"/home/yildirim/Jupiter/imagearrays/224x224_images.npy\")\n",
    "labels = np.load(r\"/home/yildirim/Jupiter/imagearrays/224x224_labels.npy\")\n",
    "data.shape"
   ]
  },
  {
   "cell_type": "code",
   "execution_count": 8,
   "id": "7835d2b9",
   "metadata": {},
   "outputs": [
    {
     "data": {
      "text/plain": [
       "array(['cat', 'cat', 'cat', 'cat', 'cat', 'cat', 'cat', 'cat', 'cat',\n",
       "       'cat', 'cat', 'cat', 'cat', 'cat', 'cat', 'cat', 'cat', 'cat',\n",
       "       'cat', 'cat', 'cat', 'cat', 'cat', 'cat', 'cat', 'cat', 'cat',\n",
       "       'cat', 'cat', 'cat', 'cat', 'cat', 'cat', 'cat', 'cat', 'cat',\n",
       "       'cat', 'cat', 'cat', 'cat', 'cat', 'cat', 'cat', 'cat', 'cat',\n",
       "       'cat', 'cat', 'cat', 'cat', 'cat', 'cat', 'cat', 'cat', 'cat',\n",
       "       'cat', 'cat', 'cat', 'cat', 'cat', 'cat', 'cat', 'cat', 'cat',\n",
       "       'cat', 'cat', 'cat', 'cat', 'cat', 'cat', 'cat', 'cat', 'cat',\n",
       "       'cat', 'cat', 'cat', 'cat', 'cat', 'cat', 'cat', 'cat', 'cat',\n",
       "       'cat', 'cat', 'cat', 'cat', 'cat', 'cat', 'cat', 'cat', 'cat',\n",
       "       'cat', 'cat', 'cat', 'cat', 'cat', 'cat', 'cat', 'cat', 'cat',\n",
       "       'cat', 'cat', 'cat', 'cat', 'cat', 'cat', 'cat', 'cat', 'cat',\n",
       "       'cat', 'cat', 'cat', 'cat', 'cat', 'cat', 'cat', 'cat', 'cat',\n",
       "       'cat', 'cat', 'cat', 'cat', 'dog', 'dog', 'dog', 'dog', 'dog',\n",
       "       'dog', 'dog', 'dog', 'dog', 'dog', 'dog', 'dog', 'dog', 'dog',\n",
       "       'dog', 'dog', 'dog', 'dog', 'dog', 'dog', 'dog', 'dog', 'dog',\n",
       "       'dog', 'dog', 'dog', 'dog', 'dog', 'dog', 'dog', 'dog', 'dog',\n",
       "       'dog', 'dog', 'dog', 'dog', 'dog', 'dog', 'dog', 'dog', 'dog',\n",
       "       'dog', 'dog', 'dog', 'dog', 'dog', 'dog', 'dog', 'dog', 'dog',\n",
       "       'dog', 'dog', 'dog', 'dog', 'dog', 'dog', 'dog', 'dog', 'dog',\n",
       "       'dog', 'dog', 'dog', 'dog', 'dog', 'dog', 'dog', 'dog', 'dog',\n",
       "       'dog', 'dog', 'dog', 'dog', 'dog', 'dog', 'dog', 'dog', 'dog',\n",
       "       'dog', 'dog', 'dog', 'dog', 'dog', 'dog', 'dog', 'dog', 'dog',\n",
       "       'dog', 'dog', 'dog', 'dog', 'dog', 'dog', 'dog', 'dog', 'dog',\n",
       "       'dog', 'dog', 'dog', 'dog', 'dog', 'dog', 'dog', 'dog', 'dog',\n",
       "       'dog', 'dog', 'dog', 'dog', 'dog', 'dog', 'dog', 'dog', 'dog',\n",
       "       'dog', 'dog', 'dog', 'dog', 'dog', 'dog', 'dog', 'dog', 'dog',\n",
       "       'dog'], dtype='<U3')"
      ]
     },
     "execution_count": 8,
     "metadata": {},
     "output_type": "execute_result"
    }
   ],
   "source": [
    "labels"
   ]
  },
  {
   "cell_type": "markdown",
   "id": "100b9839",
   "metadata": {},
   "source": [
    "\n",
    "## Label Encoding\n",
    "\n",
    "array den okunan etiketler orjinal halde, string şeklinde. bunları 0 1 2 şeklinde kodlayacağız yani label encoding yapacağız\n"
   ]
  },
  {
   "cell_type": "code",
   "execution_count": 9,
   "id": "42f33d34",
   "metadata": {},
   "outputs": [],
   "source": [
    "labelEn = LabelEncoder() #string olan etiketleri 0 1 2 şeklinde kodla\n",
    "labels = labelEn.fit_transform(labels)\n",
    "labels = to_categorical(labels)"
   ]
  },
  {
   "cell_type": "code",
   "execution_count": 10,
   "id": "11f479e7",
   "metadata": {},
   "outputs": [
    {
     "data": {
      "text/plain": [
       "array([[1., 0.],\n",
       "       [1., 0.],\n",
       "       [1., 0.],\n",
       "       [1., 0.],\n",
       "       [1., 0.],\n",
       "       [1., 0.],\n",
       "       [1., 0.],\n",
       "       [1., 0.],\n",
       "       [1., 0.],\n",
       "       [1., 0.],\n",
       "       [1., 0.],\n",
       "       [1., 0.],\n",
       "       [1., 0.],\n",
       "       [1., 0.],\n",
       "       [1., 0.],\n",
       "       [1., 0.],\n",
       "       [1., 0.],\n",
       "       [1., 0.],\n",
       "       [1., 0.],\n",
       "       [1., 0.],\n",
       "       [1., 0.],\n",
       "       [1., 0.],\n",
       "       [1., 0.],\n",
       "       [1., 0.],\n",
       "       [1., 0.],\n",
       "       [1., 0.],\n",
       "       [1., 0.],\n",
       "       [1., 0.],\n",
       "       [1., 0.],\n",
       "       [1., 0.],\n",
       "       [1., 0.],\n",
       "       [1., 0.],\n",
       "       [1., 0.],\n",
       "       [1., 0.],\n",
       "       [1., 0.],\n",
       "       [1., 0.],\n",
       "       [1., 0.],\n",
       "       [1., 0.],\n",
       "       [1., 0.],\n",
       "       [1., 0.],\n",
       "       [1., 0.],\n",
       "       [1., 0.],\n",
       "       [1., 0.],\n",
       "       [1., 0.],\n",
       "       [1., 0.],\n",
       "       [1., 0.],\n",
       "       [1., 0.],\n",
       "       [1., 0.],\n",
       "       [1., 0.],\n",
       "       [1., 0.],\n",
       "       [1., 0.],\n",
       "       [1., 0.],\n",
       "       [1., 0.],\n",
       "       [1., 0.],\n",
       "       [1., 0.],\n",
       "       [1., 0.],\n",
       "       [1., 0.],\n",
       "       [1., 0.],\n",
       "       [1., 0.],\n",
       "       [1., 0.],\n",
       "       [1., 0.],\n",
       "       [1., 0.],\n",
       "       [1., 0.],\n",
       "       [1., 0.],\n",
       "       [1., 0.],\n",
       "       [1., 0.],\n",
       "       [1., 0.],\n",
       "       [1., 0.],\n",
       "       [1., 0.],\n",
       "       [1., 0.],\n",
       "       [1., 0.],\n",
       "       [1., 0.],\n",
       "       [1., 0.],\n",
       "       [1., 0.],\n",
       "       [1., 0.],\n",
       "       [1., 0.],\n",
       "       [1., 0.],\n",
       "       [1., 0.],\n",
       "       [1., 0.],\n",
       "       [1., 0.],\n",
       "       [1., 0.],\n",
       "       [1., 0.],\n",
       "       [1., 0.],\n",
       "       [1., 0.],\n",
       "       [1., 0.],\n",
       "       [1., 0.],\n",
       "       [1., 0.],\n",
       "       [1., 0.],\n",
       "       [1., 0.],\n",
       "       [1., 0.],\n",
       "       [1., 0.],\n",
       "       [1., 0.],\n",
       "       [1., 0.],\n",
       "       [1., 0.],\n",
       "       [1., 0.],\n",
       "       [1., 0.],\n",
       "       [1., 0.],\n",
       "       [1., 0.],\n",
       "       [1., 0.],\n",
       "       [1., 0.],\n",
       "       [1., 0.],\n",
       "       [1., 0.],\n",
       "       [1., 0.],\n",
       "       [1., 0.],\n",
       "       [1., 0.],\n",
       "       [1., 0.],\n",
       "       [1., 0.],\n",
       "       [1., 0.],\n",
       "       [1., 0.],\n",
       "       [1., 0.],\n",
       "       [1., 0.],\n",
       "       [1., 0.],\n",
       "       [1., 0.],\n",
       "       [1., 0.],\n",
       "       [1., 0.],\n",
       "       [1., 0.],\n",
       "       [1., 0.],\n",
       "       [1., 0.],\n",
       "       [1., 0.],\n",
       "       [1., 0.],\n",
       "       [1., 0.],\n",
       "       [0., 1.],\n",
       "       [0., 1.],\n",
       "       [0., 1.],\n",
       "       [0., 1.],\n",
       "       [0., 1.],\n",
       "       [0., 1.],\n",
       "       [0., 1.],\n",
       "       [0., 1.],\n",
       "       [0., 1.],\n",
       "       [0., 1.],\n",
       "       [0., 1.],\n",
       "       [0., 1.],\n",
       "       [0., 1.],\n",
       "       [0., 1.],\n",
       "       [0., 1.],\n",
       "       [0., 1.],\n",
       "       [0., 1.],\n",
       "       [0., 1.],\n",
       "       [0., 1.],\n",
       "       [0., 1.],\n",
       "       [0., 1.],\n",
       "       [0., 1.],\n",
       "       [0., 1.],\n",
       "       [0., 1.],\n",
       "       [0., 1.],\n",
       "       [0., 1.],\n",
       "       [0., 1.],\n",
       "       [0., 1.],\n",
       "       [0., 1.],\n",
       "       [0., 1.],\n",
       "       [0., 1.],\n",
       "       [0., 1.],\n",
       "       [0., 1.],\n",
       "       [0., 1.],\n",
       "       [0., 1.],\n",
       "       [0., 1.],\n",
       "       [0., 1.],\n",
       "       [0., 1.],\n",
       "       [0., 1.],\n",
       "       [0., 1.],\n",
       "       [0., 1.],\n",
       "       [0., 1.],\n",
       "       [0., 1.],\n",
       "       [0., 1.],\n",
       "       [0., 1.],\n",
       "       [0., 1.],\n",
       "       [0., 1.],\n",
       "       [0., 1.],\n",
       "       [0., 1.],\n",
       "       [0., 1.],\n",
       "       [0., 1.],\n",
       "       [0., 1.],\n",
       "       [0., 1.],\n",
       "       [0., 1.],\n",
       "       [0., 1.],\n",
       "       [0., 1.],\n",
       "       [0., 1.],\n",
       "       [0., 1.],\n",
       "       [0., 1.],\n",
       "       [0., 1.],\n",
       "       [0., 1.],\n",
       "       [0., 1.],\n",
       "       [0., 1.],\n",
       "       [0., 1.],\n",
       "       [0., 1.],\n",
       "       [0., 1.],\n",
       "       [0., 1.],\n",
       "       [0., 1.],\n",
       "       [0., 1.],\n",
       "       [0., 1.],\n",
       "       [0., 1.],\n",
       "       [0., 1.],\n",
       "       [0., 1.],\n",
       "       [0., 1.],\n",
       "       [0., 1.],\n",
       "       [0., 1.],\n",
       "       [0., 1.],\n",
       "       [0., 1.],\n",
       "       [0., 1.],\n",
       "       [0., 1.],\n",
       "       [0., 1.],\n",
       "       [0., 1.],\n",
       "       [0., 1.],\n",
       "       [0., 1.],\n",
       "       [0., 1.],\n",
       "       [0., 1.],\n",
       "       [0., 1.],\n",
       "       [0., 1.],\n",
       "       [0., 1.],\n",
       "       [0., 1.],\n",
       "       [0., 1.],\n",
       "       [0., 1.],\n",
       "       [0., 1.],\n",
       "       [0., 1.],\n",
       "       [0., 1.],\n",
       "       [0., 1.],\n",
       "       [0., 1.],\n",
       "       [0., 1.],\n",
       "       [0., 1.],\n",
       "       [0., 1.],\n",
       "       [0., 1.],\n",
       "       [0., 1.],\n",
       "       [0., 1.],\n",
       "       [0., 1.],\n",
       "       [0., 1.],\n",
       "       [0., 1.],\n",
       "       [0., 1.],\n",
       "       [0., 1.],\n",
       "       [0., 1.],\n",
       "       [0., 1.],\n",
       "       [0., 1.],\n",
       "       [0., 1.],\n",
       "       [0., 1.],\n",
       "       [0., 1.],\n",
       "       [0., 1.],\n",
       "       [0., 1.],\n",
       "       [0., 1.],\n",
       "       [0., 1.],\n",
       "       [0., 1.],\n",
       "       [0., 1.],\n",
       "       [0., 1.],\n",
       "       [0., 1.],\n",
       "       [0., 1.]], dtype=float32)"
      ]
     },
     "execution_count": 10,
     "metadata": {},
     "output_type": "execute_result"
    }
   ],
   "source": [
    "labels"
   ]
  },
  {
   "cell_type": "markdown",
   "id": "320e9575",
   "metadata": {},
   "source": [
    "Train - Test Split"
   ]
  },
  {
   "cell_type": "code",
   "execution_count": 11,
   "id": "95a7b22c",
   "metadata": {},
   "outputs": [
    {
     "name": "stdout",
     "output_type": "stream",
     "text": [
      "\n",
      "x_train shape: (195, 224, 224, 3)\n",
      "x_test shape: (49, 224, 224, 3)\n",
      "y_train shape: (195, 2)\n",
      "y_test shape: (49, 2)\n",
      "\n",
      "\n"
     ]
    }
   ],
   "source": [
    "\n",
    "\n",
    "#veri array'e kaydedilmeden önce reshape edildiğinden array den okununca da düzgün gelir. yeniden reshape etmeye gerek yok\n",
    "#eğer array'e atarken son değer 3 olarak yazılmasaydı burada reshape gerekirdi\n",
    "\n",
    "#data =  data.reshape(-1,image_width , image_height , 3) \n",
    "                                                        \n",
    "\n",
    "\n",
    "\n",
    "# train -test split\n",
    "#%20 test %80 eğitim seti olacak şekilde böl\n",
    "x_train, x_test, y_train, y_test = train_test_split(data, labels, test_size = .20, shuffle = True)\n",
    "\n",
    "\n",
    "print(\n",
    "\"\"\"\n",
    "x_train shape: {}\n",
    "x_test shape: {}\n",
    "y_train shape: {}\n",
    "y_test shape: {}\n",
    "\n",
    "\"\"\".format(x_train.shape, x_test.shape, y_train.shape, y_test.shape))\n",
    "\n"
   ]
  },
  {
   "cell_type": "markdown",
   "id": "32cebbec",
   "metadata": {},
   "source": [
    "\n",
    "## Normalizasyon (bu adım opsiyonel)\n",
    "\n",
    "Veriler normalize edilerek piksel değer aralıkları 0-1 aralığına çekilip daha hızlı işlem yapılması sağlanabilir. Normalizasyon işlem hızını arttırır ama her görüntü için başarı artışı getirmeyebilir, belki başarıyı düşürebilir.\n"
   ]
  },
  {
   "cell_type": "code",
   "execution_count": 12,
   "id": "5000268b",
   "metadata": {},
   "outputs": [],
   "source": [
    "x_train_mean = np.mean(x_train)\n",
    "x_train_std = np.std(x_train)\n",
    "\n",
    "x_test_mean = np.mean(x_test)\n",
    "x_test_std = np.std(x_test)\n",
    "\n",
    "x_train = (x_train - x_train_mean)/x_train_std\n",
    "x_test = (x_test - x_test_mean)/x_test_std\n",
    "\n"
   ]
  },
  {
   "cell_type": "markdown",
   "id": "7c0ad8f1",
   "metadata": {},
   "source": [
    "\n",
    "### Train - Validation Split\n",
    "\n",
    "%20 test - %10 validation seti olacak şekilde ayır\n",
    "\n",
    "validation datası, modelin eğitimi esnasında train verisini doğrulamak için yani eğitim işlemi esnasındaki test sürecini gerçekleştirmek için kullanılıyor. x_test ve y_test ise eğitim süreci bittikten sonra eğitilen modeli daha önce hiç bilmediği verilerle test etmek için\n"
   ]
  },
  {
   "cell_type": "code",
   "execution_count": 13,
   "id": "58c2eadb",
   "metadata": {},
   "outputs": [],
   "source": [
    "x_train, x_validate, y_train, y_validate = train_test_split(x_train, y_train, test_size = .10, shuffle = True,random_state=42)"
   ]
  },
  {
   "cell_type": "markdown",
   "id": "dd20af97",
   "metadata": {},
   "source": [
    "\n",
    "### Model tanımlama\n",
    "\n",
    "kendimize göre bir model oluşturan ve bunu geri döndüren bir fonksiyon yazalım\n"
   ]
  },
  {
   "cell_type": "code",
   "execution_count": 14,
   "id": "9629b07d",
   "metadata": {},
   "outputs": [],
   "source": [
    "def model1(input_shape=(image_width ,image_height ,3), num_classes = 2): #parametrelerin varsayılan değerleri var. \n",
    "    #modelin giriş shape'i ve class sayısı= 3                                                                     \n",
    "    #burada oluşturulan model VGG16 mimarisi aslında. değiştirilebilir.\n",
    "\tmodel = Sequential()\n",
    "\tchanDim = -1\n",
    "\n",
    "\tmodel.add(Conv2D(64, (3,3), padding=\"same\",input_shape=input_shape))\n",
    "\tmodel.add(Activation(\"relu\"))\n",
    "\tmodel.add(BatchNormalization(axis=chanDim))\n",
    "\tmodel.add(Conv2D(64, (3,3), padding=\"same\"))\n",
    "\tmodel.add(Activation(\"relu\"))\n",
    "\tmodel.add(BatchNormalization(axis=chanDim))\n",
    "\tmodel.add(MaxPooling2D(pool_size=(2, 2)))\n",
    "\n",
    "\t# 2.Layer (CONV => RELU => CONV => RELU) * 2 => POOL\n",
    "\tmodel.add(Conv2D(128, (3,3), padding=\"same\"))\n",
    "\tmodel.add(Activation(\"relu\"))\n",
    "\tmodel.add(BatchNormalization(axis=chanDim))\n",
    "\tmodel.add(Conv2D(128, (3,3), padding=\"same\"))\n",
    "\tmodel.add(Activation(\"relu\"))\n",
    "\tmodel.add(BatchNormalization(axis=chanDim))\n",
    "\tmodel.add(MaxPooling2D(pool_size=(2, 2)))\n",
    "\n",
    "\t# 3.Layer (CONV => RELU => CONV => RELU) * 2 => POOL\n",
    "\tmodel.add(Conv2D(256, (3,3), padding=\"same\"))\n",
    "\tmodel.add(Activation(\"relu\"))\n",
    "\tmodel.add(BatchNormalization(axis=chanDim))\n",
    "\tmodel.add(Conv2D(256, (3,3), padding=\"same\"))\n",
    "\tmodel.add(Activation(\"relu\"))\n",
    "\tmodel.add(BatchNormalization(axis=chanDim))\n",
    "\tmodel.add(Conv2D(256, (3,3), padding=\"same\"))\n",
    "\tmodel.add(Activation(\"relu\"))\n",
    "\tmodel.add(BatchNormalization(axis=chanDim))\n",
    "\tmodel.add(MaxPooling2D(pool_size=(2, 2)))\n",
    "\n",
    "\t# 4.Layer (CONV => RELU => CONV => RELU) * 2 => POOL\n",
    "\tmodel.add(Conv2D(512, (3,3), padding=\"same\"))\n",
    "\tmodel.add(Activation(\"relu\"))\n",
    "\tmodel.add(BatchNormalization(axis=chanDim))\n",
    "\tmodel.add(Conv2D(512, (3,3), padding=\"same\"))\n",
    "\tmodel.add(Activation(\"relu\"))\n",
    "\tmodel.add(BatchNormalization(axis=chanDim))\n",
    "\tmodel.add(Conv2D(512, (3,3), padding=\"same\"))\n",
    "\tmodel.add(Activation(\"relu\"))\n",
    "\tmodel.add(BatchNormalization(axis=chanDim))\n",
    "\tmodel.add(MaxPooling2D(pool_size=(2, 2)))\n",
    "\n",
    "\t# 5.Layer (CONV => RELU => CONV => RELU) * 2 => POOL\n",
    "\tmodel.add(Conv2D(512, (3,3), padding=\"same\"))\n",
    "\tmodel.add(Activation(\"relu\"))\n",
    "\tmodel.add(BatchNormalization(axis=chanDim))\n",
    "\tmodel.add(Conv2D(512, (3,3), padding=\"same\"))\n",
    "\tmodel.add(Activation(\"relu\"))\n",
    "\tmodel.add(BatchNormalization(axis=chanDim))\n",
    "\tmodel.add(Conv2D(512, (3,3), padding=\"same\"))\n",
    "\tmodel.add(Activation(\"relu\"))\n",
    "\tmodel.add(BatchNormalization(axis=chanDim))\n",
    "\tmodel.add(MaxPooling2D(pool_size=(2, 2)))\n",
    "\n",
    "\t# 1. TAM BAĞLANTI KATMANI \n",
    "\tmodel.add(Flatten())\n",
    "\tmodel.add(Dense(4096))\n",
    "\tmodel.add(Activation(\"relu\"))\n",
    "\tmodel.add(BatchNormalization())\n",
    "\tmodel.add(Dropout(0.5))\n",
    "\n",
    "\t# 2. TAM BAĞLANTI KATMANI \n",
    "\tmodel.add(Flatten())\n",
    "\tmodel.add(Dense(4096))\n",
    "\tmodel.add(Activation(\"relu\"))\n",
    "\tmodel.add(BatchNormalization())\n",
    "\tmodel.add(Dropout(0.5))\n",
    "\n",
    "\t# SOFTMAX\n",
    "\tmodel.add(Dense(num_classes))\n",
    "\tmodel.add(Activation(\"softmax\"))\n",
    "\n",
    "\treturn model"
   ]
  },
  {
   "cell_type": "code",
   "execution_count": 15,
   "id": "bd3d9f14",
   "metadata": {},
   "outputs": [],
   "source": [
    "# bir başka model\n",
    "def model2(input_shape=(image_width ,image_height ,3), num_classes = 2):\n",
    "    model = Sequential()\n",
    "    model.add(Conv2D(32, kernel_size=(3, 3),activation='relu',padding = 'Same',input_shape=input_shape))\n",
    "    model.add(Conv2D(64,kernel_size=(3, 3), activation='relu',padding = 'Same',))\n",
    "    model.add(MaxPool2D(pool_size = (2, 2)))\n",
    "    model.add(Dropout(0.5))\n",
    "\n",
    "    model.add(Conv2D(128, (3, 3), activation='relu',padding = 'Same'))\n",
    "    model.add(Conv2D(64, (3, 3), activation='relu',padding = 'Same'))\n",
    "    model.add(MaxPool2D(pool_size=(2, 2)))\n",
    "    model.add(Dropout(0.5))\n",
    "\n",
    "    model.add(Flatten())\n",
    "    model.add(Dense(128, activation='relu'))\n",
    "    model.add(Dense(256, activation='relu'))\n",
    "    model.add(Dense(512, activation='relu'))\n",
    "    model.add(Dropout(0.5))\n",
    "    model.add(Dense(num_classes, activation='softmax')) #ikili sınıflama olsaydı sigmoid kullanılırdı. \n",
    "                            #bu durumda zaten num_classes 1 olurdu. yani çıkış nöronu 1 tane olurdu.\n",
    "    return model"
   ]
  },
  {
   "cell_type": "markdown",
   "id": "f3631bf5",
   "metadata": {},
   "source": [
    "Model 2 yi kullanacağız"
   ]
  },
  {
   "cell_type": "code",
   "execution_count": 16,
   "id": "85308540",
   "metadata": {},
   "outputs": [
    {
     "name": "stdout",
     "output_type": "stream",
     "text": [
      "Model: \"sequential\"\n",
      "_________________________________________________________________\n",
      " Layer (type)                Output Shape              Param #   \n",
      "=================================================================\n",
      " conv2d (Conv2D)             (None, 224, 224, 32)      896       \n",
      "                                                                 \n",
      " conv2d_1 (Conv2D)           (None, 224, 224, 64)      18496     \n",
      "                                                                 \n",
      " max_pooling2d (MaxPooling2D  (None, 112, 112, 64)     0         \n",
      " )                                                               \n",
      "                                                                 \n",
      " dropout (Dropout)           (None, 112, 112, 64)      0         \n",
      "                                                                 \n",
      " conv2d_2 (Conv2D)           (None, 112, 112, 128)     73856     \n",
      "                                                                 \n",
      " conv2d_3 (Conv2D)           (None, 112, 112, 64)      73792     \n",
      "                                                                 \n",
      " max_pooling2d_1 (MaxPooling  (None, 56, 56, 64)       0         \n",
      " 2D)                                                             \n",
      "                                                                 \n",
      " dropout_1 (Dropout)         (None, 56, 56, 64)        0         \n",
      "                                                                 \n",
      " flatten (Flatten)           (None, 200704)            0         \n",
      "                                                                 \n",
      " dense (Dense)               (None, 128)               25690240  \n",
      "                                                                 \n",
      " dense_1 (Dense)             (None, 256)               33024     \n",
      "                                                                 \n",
      " dense_2 (Dense)             (None, 512)               131584    \n",
      "                                                                 \n",
      " dropout_2 (Dropout)         (None, 512)               0         \n",
      "                                                                 \n",
      " dense_3 (Dense)             (None, 2)                 1026      \n",
      "                                                                 \n",
      "=================================================================\n",
      "Total params: 26,022,914\n",
      "Trainable params: 26,022,914\n",
      "Non-trainable params: 0\n",
      "_________________________________________________________________\n"
     ]
    },
    {
     "name": "stderr",
     "output_type": "stream",
     "text": [
      "2023-10-12 22:52:43.022440: I tensorflow/core/common_runtime/process_util.cc:146] Creating new thread pool with default inter op setting: 2. Tune using inter_op_parallelism_threads for best performance.\n"
     ]
    }
   ],
   "source": [
    "model = model2()\n",
    "model.summary()\n"
   ]
  },
  {
   "cell_type": "markdown",
   "id": "08994dde",
   "metadata": {},
   "source": [
    "\n",
    "Modeli görselleştirme"
   ]
  },
  {
   "cell_type": "code",
   "execution_count": 17,
   "id": "907400c3",
   "metadata": {},
   "outputs": [
    {
     "name": "stdout",
     "output_type": "stream",
     "text": [
      "Requirement already satisfied: pydot in /home/yildirim/anaconda3/lib/python3.11/site-packages (1.4.2)\n",
      "Requirement already satisfied: pyparsing>=2.1.4 in /home/yildirim/anaconda3/lib/python3.11/site-packages (from pydot) (3.0.9)\n",
      "Note: you may need to restart the kernel to use updated packages.\n"
     ]
    }
   ],
   "source": [
    "pip install pydot #görselleştirme için gerekli kütüphane"
   ]
  },
  {
   "cell_type": "code",
   "execution_count": 18,
   "id": "a4a2ad99",
   "metadata": {},
   "outputs": [
    {
     "name": "stdout",
     "output_type": "stream",
     "text": [
      "You must install pydot (`pip install pydot`) and install graphviz (see instructions at https://graphviz.gitlab.io/download/) for plot_model to work.\n"
     ]
    }
   ],
   "source": [
    "tf.keras.utils.plot_model(model, to_file='model_plot.png', show_shapes=True, show_layer_names=True)"
   ]
  },
  {
   "cell_type": "markdown",
   "id": "c08dd983",
   "metadata": {},
   "source": [
    "\n",
    "Optimizer tanımla\n",
    "\n",
    "Eğitim işlemi sonucunda ağın bulduğu sonuç ile gerçekte olması gereken sonuç arasındaki fark ile oluşan hatayı loss function ile hesaplıyoruz. Loss fonksiyonu çoklu sınıflamalarda \"categorical_crossentropy\" , ikili sınıflamada \"binary_crossrntropy\" olarak seçiliyor. Loss hesaplandıktan sonra geriye yayılımla tüm parametrelerin optimize edilmesi gerekiyor. Bu aşamada kullanılan adım uzunluğu \"learning rate\" in (LR) duruma göre adaptif bir şekilde değiştirilmesi sonucu daha verimli kılar. \"Learning rate\" çok küçük olursa işlem uzun sürer, çok büyük olursa hatanın minimum değeri kaçırılabilir. Bu nedenle LR optimize edilmelidir. Bu iş için adaptif momentum optimizer yani \"adam\" optimizer kullanacağız.\n"
   ]
  },
  {
   "cell_type": "code",
   "execution_count": 19,
   "id": "7485a3c2",
   "metadata": {
    "scrolled": true
   },
   "outputs": [],
   "source": [
    "optimizer = Adam(learning_rate=0.0001)"
   ]
  },
  {
   "cell_type": "markdown",
   "id": "c0fd88d6",
   "metadata": {},
   "source": [
    "\n",
    "LR annealer tanımlama\n",
    "\n",
    "Eğitim esnasında monitör edilen parametrede ilerleme olmuyorsa LR değiştirilir. Bu işlemi Keras.callbacks içindeki ReduceLROnPlateau fonksiyonu ile yapabiliriz.\n"
   ]
  },
  {
   "cell_type": "code",
   "execution_count": 20,
   "id": "1f676562",
   "metadata": {},
   "outputs": [],
   "source": [
    "# Set a learning rate annealer\n",
    "from tensorflow.keras.callbacks import ReduceLROnPlateau\n",
    "learning_rate_reduction = ReduceLROnPlateau(monitor='val_accuracy', patience=3, verbose=1,  factor=0.5, min_lr=0.00001)\n"
   ]
  },
  {
   "cell_type": "markdown",
   "id": "c6a6960d",
   "metadata": {},
   "source": [
    "\n",
    "modeli derle\n",
    "\n",
    "Loss fonksiyonu çoklu sınıflamalarda \"categorical_crossentropy\" , ikili sınıflamada \"binary_crossentropy\" olarak seçilir. burada üç sınıf olduğu için categorical_crossentropy. çoklu sınıflamada modelin sonundaki sınıflayıcıda (flatten'den sonraki kısım) çıkışta sınıf sayısı kadar nöron olur.\n",
    "\n",
    "İkili sınıflama yapılıyorsa çıkış nöron sayısı tektir. bu tek çıkış 0 veya 1 olarak bir değer verir. bu durumda loss fonksiyonu binary_crossentropy olur.\n",
    "\n",
    "DİKKAT: iki sınıfllı bir veri var/yok şeklinde ise ikili sınıflama uygundur. ama kırmızı-siyah, elma-çilek vs. gibi (yani kırmızı kırmızı değil şeklinde değil veya elma elma değil şeklinde yani var yok halinde değil) ve bu sınıflar 1, 2 gibi kodlanmışsa, çıkışta yine 2 nöron olur ve sınıflamada kategoriktir, binary değildir. bu durum aslında yapılan kurgu ile ilgili.\n"
   ]
  },
  {
   "cell_type": "code",
   "execution_count": 21,
   "id": "eaded040",
   "metadata": {},
   "outputs": [],
   "source": [
    "model.compile(optimizer = optimizer , loss = \"categorical_crossentropy\", metrics=[\"accuracy\"])"
   ]
  },
  {
   "cell_type": "markdown",
   "id": "d9cf8f3d",
   "metadata": {},
   "source": [
    "\n",
    "epoch ve batch size tanımla\n",
    "\n",
    "epoch = model kaç iterasyon çalışacak batch size = resimler modele bit dizisi matrisleri olarak alınır. her bir adımda kaç resmin bit dizisi alınacak, yani kaç resim alınacak. bir seferde alınan resimler yığın (batch), yığındaki resim sayısı batch size\n",
    "\n",
    "cost fonksiyonu her bir batch için hesaplanır, buna göre geri yayılım yapılır. her bir resim için yapılsaydı süreç uzardı (belki hesap daha hassas olurdu). batch size azaldıkça daha ince hesap yapılır ama süreç uzar, batch size artarsa cost hesabı daha üstünkörü olur, başarı düşebilir. bu nedenle batch size optimum şekilde seçilmeli.\n"
   ]
  },
  {
   "cell_type": "code",
   "execution_count": 22,
   "id": "cf51f83d",
   "metadata": {},
   "outputs": [],
   "source": [
    "epc = 40\n",
    "bs = 64"
   ]
  },
  {
   "cell_type": "markdown",
   "id": "0e94a1a9",
   "metadata": {},
   "source": [
    "\n",
    "modeli çalıştır\n",
    "\n",
    "modeli fit edince çalışır. modelin her bir aşamasındaki sonuçlar history değişkenine raporlanır.\n"
   ]
  },
  {
   "cell_type": "code",
   "execution_count": 23,
   "id": "25dbac0c",
   "metadata": {
    "scrolled": false
   },
   "outputs": [
    {
     "name": "stdout",
     "output_type": "stream",
     "text": [
      "Epoch 1/40\n",
      "3/3 [==============================] - 24s 8s/step - loss: 0.7208 - accuracy: 0.4857 - val_loss: 0.7021 - val_accuracy: 0.3500 - lr: 1.0000e-04\n",
      "Epoch 2/40\n",
      "3/3 [==============================] - 22s 7s/step - loss: 0.7341 - accuracy: 0.4743 - val_loss: 0.7227 - val_accuracy: 0.3500 - lr: 1.0000e-04\n",
      "Epoch 3/40\n",
      "3/3 [==============================] - 24s 8s/step - loss: 0.7321 - accuracy: 0.5200 - val_loss: 0.7139 - val_accuracy: 0.3500 - lr: 1.0000e-04\n",
      "Epoch 4/40\n",
      "3/3 [==============================] - 23s 7s/step - loss: 0.6900 - accuracy: 0.5314 - val_loss: 0.6878 - val_accuracy: 0.6000 - lr: 1.0000e-04\n",
      "Epoch 5/40\n",
      "3/3 [==============================] - 24s 8s/step - loss: 0.6677 - accuracy: 0.5943 - val_loss: 0.6960 - val_accuracy: 0.4500 - lr: 1.0000e-04\n",
      "Epoch 6/40\n",
      "3/3 [==============================] - 25s 8s/step - loss: 0.6722 - accuracy: 0.5714 - val_loss: 0.7063 - val_accuracy: 0.3500 - lr: 1.0000e-04\n",
      "Epoch 7/40\n",
      "3/3 [==============================] - ETA: 0s - loss: 0.6577 - accuracy: 0.5771\n",
      "Epoch 7: ReduceLROnPlateau reducing learning rate to 4.999999873689376e-05.\n",
      "3/3 [==============================] - 23s 7s/step - loss: 0.6577 - accuracy: 0.5771 - val_loss: 0.6896 - val_accuracy: 0.5500 - lr: 1.0000e-04\n",
      "Epoch 8/40\n",
      "3/3 [==============================] - 24s 8s/step - loss: 0.6438 - accuracy: 0.6000 - val_loss: 0.6827 - val_accuracy: 0.5500 - lr: 5.0000e-05\n",
      "Epoch 9/40\n",
      "3/3 [==============================] - 24s 8s/step - loss: 0.6337 - accuracy: 0.6743 - val_loss: 0.6806 - val_accuracy: 0.4500 - lr: 5.0000e-05\n",
      "Epoch 10/40\n",
      "3/3 [==============================] - ETA: 0s - loss: 0.6177 - accuracy: 0.6971\n",
      "Epoch 10: ReduceLROnPlateau reducing learning rate to 2.499999936844688e-05.\n",
      "3/3 [==============================] - 24s 8s/step - loss: 0.6177 - accuracy: 0.6971 - val_loss: 0.6806 - val_accuracy: 0.5000 - lr: 5.0000e-05\n",
      "Epoch 11/40\n",
      "3/3 [==============================] - 24s 8s/step - loss: 0.6096 - accuracy: 0.6914 - val_loss: 0.6825 - val_accuracy: 0.5500 - lr: 2.5000e-05\n",
      "Epoch 12/40\n",
      "3/3 [==============================] - 25s 8s/step - loss: 0.6062 - accuracy: 0.6686 - val_loss: 0.6775 - val_accuracy: 0.4500 - lr: 2.5000e-05\n",
      "Epoch 13/40\n",
      "3/3 [==============================] - ETA: 0s - loss: 0.6114 - accuracy: 0.7314\n",
      "Epoch 13: ReduceLROnPlateau reducing learning rate to 1.249999968422344e-05.\n",
      "3/3 [==============================] - 24s 7s/step - loss: 0.6114 - accuracy: 0.7314 - val_loss: 0.6696 - val_accuracy: 0.5000 - lr: 2.5000e-05\n",
      "Epoch 14/40\n",
      "3/3 [==============================] - 24s 8s/step - loss: 0.6083 - accuracy: 0.7086 - val_loss: 0.6682 - val_accuracy: 0.5000 - lr: 1.2500e-05\n",
      "Epoch 15/40\n",
      "3/3 [==============================] - 25s 8s/step - loss: 0.6018 - accuracy: 0.7257 - val_loss: 0.6680 - val_accuracy: 0.5000 - lr: 1.2500e-05\n",
      "Epoch 16/40\n",
      "3/3 [==============================] - ETA: 0s - loss: 0.6000 - accuracy: 0.6629\n",
      "Epoch 16: ReduceLROnPlateau reducing learning rate to 1e-05.\n",
      "3/3 [==============================] - 25s 8s/step - loss: 0.6000 - accuracy: 0.6629 - val_loss: 0.6678 - val_accuracy: 0.5000 - lr: 1.2500e-05\n",
      "Epoch 17/40\n",
      "3/3 [==============================] - 25s 8s/step - loss: 0.5852 - accuracy: 0.7200 - val_loss: 0.6659 - val_accuracy: 0.5000 - lr: 1.0000e-05\n",
      "Epoch 18/40\n",
      "3/3 [==============================] - 24s 8s/step - loss: 0.5742 - accuracy: 0.7257 - val_loss: 0.6634 - val_accuracy: 0.6500 - lr: 1.0000e-05\n",
      "Epoch 19/40\n",
      "3/3 [==============================] - 25s 8s/step - loss: 0.5579 - accuracy: 0.7200 - val_loss: 0.6612 - val_accuracy: 0.6500 - lr: 1.0000e-05\n",
      "Epoch 20/40\n",
      "3/3 [==============================] - 26s 8s/step - loss: 0.5816 - accuracy: 0.6971 - val_loss: 0.6587 - val_accuracy: 0.6500 - lr: 1.0000e-05\n",
      "Epoch 21/40\n",
      "3/3 [==============================] - 24s 7s/step - loss: 0.5551 - accuracy: 0.7714 - val_loss: 0.6579 - val_accuracy: 0.6500 - lr: 1.0000e-05\n",
      "Epoch 22/40\n",
      "3/3 [==============================] - 26s 9s/step - loss: 0.5402 - accuracy: 0.7600 - val_loss: 0.6557 - val_accuracy: 0.6500 - lr: 1.0000e-05\n",
      "Epoch 23/40\n",
      "3/3 [==============================] - 27s 9s/step - loss: 0.5606 - accuracy: 0.7600 - val_loss: 0.6572 - val_accuracy: 0.6500 - lr: 1.0000e-05\n",
      "Epoch 24/40\n",
      "3/3 [==============================] - 32s 9s/step - loss: 0.5495 - accuracy: 0.7486 - val_loss: 0.6555 - val_accuracy: 0.6500 - lr: 1.0000e-05\n",
      "Epoch 25/40\n",
      "3/3 [==============================] - 24s 8s/step - loss: 0.5544 - accuracy: 0.7200 - val_loss: 0.6540 - val_accuracy: 0.6500 - lr: 1.0000e-05\n",
      "Epoch 26/40\n",
      "3/3 [==============================] - 27s 9s/step - loss: 0.5291 - accuracy: 0.7943 - val_loss: 0.6507 - val_accuracy: 0.6500 - lr: 1.0000e-05\n",
      "Epoch 27/40\n",
      "3/3 [==============================] - 25s 8s/step - loss: 0.5349 - accuracy: 0.7486 - val_loss: 0.6472 - val_accuracy: 0.6500 - lr: 1.0000e-05\n",
      "Epoch 28/40\n",
      "3/3 [==============================] - 25s 8s/step - loss: 0.5430 - accuracy: 0.7543 - val_loss: 0.6439 - val_accuracy: 0.6500 - lr: 1.0000e-05\n",
      "Epoch 29/40\n",
      "3/3 [==============================] - 25s 8s/step - loss: 0.5281 - accuracy: 0.7771 - val_loss: 0.6436 - val_accuracy: 0.6500 - lr: 1.0000e-05\n",
      "Epoch 30/40\n",
      "3/3 [==============================] - 33s 10s/step - loss: 0.5157 - accuracy: 0.7714 - val_loss: 0.6465 - val_accuracy: 0.6500 - lr: 1.0000e-05\n",
      "Epoch 31/40\n",
      "3/3 [==============================] - 24s 8s/step - loss: 0.5142 - accuracy: 0.8057 - val_loss: 0.6490 - val_accuracy: 0.6500 - lr: 1.0000e-05\n",
      "Epoch 32/40\n",
      "3/3 [==============================] - 25s 8s/step - loss: 0.5028 - accuracy: 0.7886 - val_loss: 0.6465 - val_accuracy: 0.6500 - lr: 1.0000e-05\n",
      "Epoch 33/40\n",
      "3/3 [==============================] - 24s 8s/step - loss: 0.5222 - accuracy: 0.7829 - val_loss: 0.6427 - val_accuracy: 0.6500 - lr: 1.0000e-05\n",
      "Epoch 34/40\n",
      "3/3 [==============================] - 24s 8s/step - loss: 0.5289 - accuracy: 0.7657 - val_loss: 0.6366 - val_accuracy: 0.6500 - lr: 1.0000e-05\n",
      "Epoch 35/40\n",
      "3/3 [==============================] - 25s 8s/step - loss: 0.4916 - accuracy: 0.8057 - val_loss: 0.6319 - val_accuracy: 0.6500 - lr: 1.0000e-05\n",
      "Epoch 36/40\n",
      "3/3 [==============================] - 26s 8s/step - loss: 0.4930 - accuracy: 0.8057 - val_loss: 0.6283 - val_accuracy: 0.6500 - lr: 1.0000e-05\n",
      "Epoch 37/40\n",
      "3/3 [==============================] - 26s 8s/step - loss: 0.4850 - accuracy: 0.7943 - val_loss: 0.6301 - val_accuracy: 0.6500 - lr: 1.0000e-05\n",
      "Epoch 38/40\n",
      "3/3 [==============================] - 25s 8s/step - loss: 0.4996 - accuracy: 0.8114 - val_loss: 0.6330 - val_accuracy: 0.6500 - lr: 1.0000e-05\n",
      "Epoch 39/40\n",
      "3/3 [==============================] - 25s 8s/step - loss: 0.4755 - accuracy: 0.8114 - val_loss: 0.6347 - val_accuracy: 0.6500 - lr: 1.0000e-05\n",
      "Epoch 40/40\n",
      "3/3 [==============================] - 25s 9s/step - loss: 0.4602 - accuracy: 0.8171 - val_loss: 0.6300 - val_accuracy: 0.6500 - lr: 1.0000e-05\n"
     ]
    }
   ],
   "source": [
    "history = model.fit(x_train,y_train, batch_size=bs,\n",
    "                              epochs = epc, validation_data = (x_validate,y_validate),\n",
    "                              verbose = 1, callbacks=[learning_rate_reduction])"
   ]
  },
  {
   "cell_type": "code",
   "execution_count": 24,
   "id": "722bb765",
   "metadata": {},
   "outputs": [
    {
     "data": {
      "text/plain": [
       "dict_keys(['loss', 'accuracy', 'val_loss', 'val_accuracy', 'lr'])"
      ]
     },
     "execution_count": 24,
     "metadata": {},
     "output_type": "execute_result"
    }
   ],
   "source": [
    "# history nin içindeki history değerinin anahtarları raporu alınabilecek değerlerin adlarını gösterir\n",
    "history.history.keys()"
   ]
  },
  {
   "cell_type": "markdown",
   "id": "1f190c8a",
   "metadata": {},
   "source": [
    "\n",
    "Doğruluk grafiklerini çiz"
   ]
  },
  {
   "cell_type": "code",
   "execution_count": 25,
   "id": "484b3972",
   "metadata": {},
   "outputs": [
    {
     "data": {
      "image/png": "[encoded data removed]",
      "text/plain": [
       "<Figure size 640x480 with 1 Axes>"
      ]
     },
     "metadata": {},
     "output_type": "display_data"
    }
   ],
   "source": [
    "import matplotlib.pyplot as plt\n",
    "\n",
    "plt.plot(history.history['accuracy'])\n",
    "plt.plot(history.history['val_accuracy'])\n",
    "plt.title('model accuracy')\n",
    "plt.ylabel('accuracy')\n",
    "plt.xlabel('epoch')\n",
    "plt.legend(['train', 'test'], loc='upper left')\n",
    "plt.show()"
   ]
  },
  {
   "cell_type": "markdown",
   "id": "a2028ae8",
   "metadata": {},
   "source": [
    "\n",
    "Hata grafiklerini çiz\n"
   ]
  },
  {
   "cell_type": "code",
   "execution_count": 26,
   "id": "cd7598dd",
   "metadata": {},
   "outputs": [
    {
     "data": {
      "image/png": "[encoded data removed]",
      "text/plain": [
       "<Figure size 640x480 with 1 Axes>"
      ]
     },
     "metadata": {},
     "output_type": "display_data"
    }
   ],
   "source": [
    "plt.plot(history.history['loss'])\n",
    "plt.plot(history.history['val_loss'])\n",
    "plt.title('model loss')\n",
    "plt.ylabel('loss')\n",
    "plt.xlabel('epoch')\n",
    "plt.legend(['train', 'test'], loc='upper left')\n",
    "plt.show()"
   ]
  },
  {
   "cell_type": "code",
   "execution_count": 27,
   "id": "fe319490",
   "metadata": {},
   "outputs": [],
   "source": [
    "import itertools\n",
    "def plot_confusion_matrix(cm, classes,\n",
    "                          normalize=False,\n",
    "                          title='Confusion matrix',\n",
    "                          cmap=plt.cm.Blues):\n",
    "    \"\"\"\n",
    "    This function prints and plots the confusion matrix.\n",
    "    Normalization can be applied by setting `normalize=True`.\n",
    "    \"\"\"\n",
    "    plt.imshow(cm, interpolation='nearest', cmap=cmap)\n",
    "    plt.title(title)\n",
    "    plt.colorbar()\n",
    "    tick_marks = np.arange(len(classes))\n",
    "    plt.xticks(tick_marks, classes, rotation=45)\n",
    "    plt.yticks(tick_marks, classes)\n",
    "\n",
    "    if normalize:\n",
    "        cm = cm.astype('float') / cm.sum(axis=1)[:, np.newaxis]\n",
    "\n",
    "    thresh = cm.max() / 2.\n",
    "    for i, j in itertools.product(range(cm.shape[0]), range(cm.shape[1])):\n",
    "        plt.text(j, i, cm[i, j],\n",
    "                 horizontalalignment=\"center\",\n",
    "                 color=\"white\" if cm[i, j] > thresh else \"black\")\n",
    "\n",
    "    plt.tight_layout()\n",
    "    plt.ylabel('True label')\n",
    "    plt.xlabel('Predicted label')  "
   ]
  },
  {
   "cell_type": "code",
   "execution_count": 28,
   "id": "bfbfef3b",
   "metadata": {},
   "outputs": [
    {
     "name": "stdout",
     "output_type": "stream",
     "text": [
      "2/2 [==============================] - 1s 533ms/step\n"
     ]
    },
    {
     "data": {
      "image/png": "[encoded data removed]",
      "text/plain": [
       "<Figure size 640x480 with 2 Axes>"
      ]
     },
     "metadata": {},
     "output_type": "display_data"
    }
   ],
   "source": [
    "Y_pred = model.predict(x_test)   \n",
    "Y_pred_classes = np.argmax(Y_pred,axis = 1) \n",
    "# Convert validation observations to one hot vectors\n",
    "Y_true = np.argmax(y_test,axis = 1)  #test süreci için Y_true = np.argmax(y_test,axis = 1)\n",
    "# compute the confusion matrix\n",
    "confusion_mtx = confusion_matrix(Y_true, Y_pred_classes)\n",
    "# plot the confusion matrix\n",
    "plot_confusion_matrix(confusion_mtx, classes = range(3))"
   ]
  },
  {
   "cell_type": "code",
   "execution_count": 29,
   "id": "c78f572f",
   "metadata": {
    "scrolled": true
   },
   "outputs": [
    {
     "name": "stdout",
     "output_type": "stream",
     "text": [
      "              precision    recall  f1-score   support\n",
      "\n",
      "           0       0.71      0.77      0.74        26\n",
      "           1       0.71      0.65      0.68        23\n",
      "\n",
      "    accuracy                           0.71        49\n",
      "   macro avg       0.71      0.71      0.71        49\n",
      "weighted avg       0.71      0.71      0.71        49\n",
      "\n"
     ]
    }
   ],
   "source": [
    "from sklearn.metrics import classification_report\n",
    "report = classification_report(Y_true, Y_pred_classes)\n",
    "print(report)"
   ]
  },
  {
   "cell_type": "markdown",
   "id": "44e33134",
   "metadata": {},
   "source": [
    "\n",
    "\n",
    "İstenirse eğitilen model daha sonra kullanılmak üzere, hesaplanan ağırlıkları ile kaydedilebilir. bunun için de bir yol tanımlaması yapabiliriz.\n"
   ]
  },
  {
   "cell_type": "code",
   "execution_count": 30,
   "id": "de2ebc0f",
   "metadata": {
    "scrolled": true
   },
   "outputs": [],
   "source": [
    "os.chdir(r\"/home/yildirim/Jupiter/models\") #modeli kaydetmek için \n",
    "model.save('model1.h5')"
   ]
  }
 ],
 "metadata": {
  "kernelspec": {
   "display_name": "Python 3 (ipykernel)",
   "language": "python",
   "name": "python3"
  },
  "language_info": {
   "codemirror_mode": {
    "name": "ipython",
    "version": 3
   },
   "file_extension": ".py",
   "mimetype": "text/x-python",
   "name": "python",
   "nbconvert_exporter": "python",
   "pygments_lexer": "ipython3",
   "version": "3.11.5"
  }
 },
 "nbformat": 4,
 "nbformat_minor": 5
}
